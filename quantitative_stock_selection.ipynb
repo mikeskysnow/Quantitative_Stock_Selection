{
 "cells": [
  {
   "cell_type": "code",
   "execution_count": 1,
   "metadata": {},
   "outputs": [],
   "source": [
    "#载入数据处理必备的模组\n",
    "import numpy as np\n",
    "import pandas as pd"
   ]
  },
  {
   "cell_type": "code",
   "execution_count": 3,
   "metadata": {
    "scrolled": true
   },
   "outputs": [
    {
     "name": "stdout",
     "output_type": "stream",
     "text": [
      "  stock_code       revenue  s_fa_eps_basic     du_profit  plus_net_invest_inc  \\\n",
      "0  000001.SZ  8.196800e+10          1.0600  0.000000e+00         0.000000e+00   \n",
      "1  000002.SZ  1.170000e+11          1.0050  2.222772e+10         2.046834e+09   \n",
      "2  000008.SZ  1.007329e+09          0.0434  1.776341e+08         0.000000e+00   \n",
      "3  000060.SZ  1.482919e+10          0.3800  1.279332e+09         2.853988e+07   \n",
      "4  000063.SZ  4.775730e+10          0.9300  5.884933e+09        -1.951700e+07   \n",
      "\n",
      "   net_cash_flows_oper_act  net_cash_flows_inv_act  net_roe  total_roe  \\\n",
      "0            -1.530000e+11           -9.716200e+10   8.7813     0.6289   \n",
      "1             6.474047e+09            1.392036e+10   9.5305     1.6026   \n",
      "2            -9.947078e+07           -1.193312e+09   1.9528     1.5235   \n",
      "3             7.571307e+08           -4.932751e+08   8.6684     4.9238   \n",
      "4            -3.170483e+09           -4.387188e+09  12.6504     2.9854   \n",
      "\n",
      "         RSI       VOL      WILLR         y      date  \n",
      "0  52.970207  0.009827 -95.652174  0.035853  20171207  \n",
      "1  52.688324  0.006181 -98.727735  0.028047  20171207  \n",
      "2  30.723514  0.002209 -84.210526  0.050602  20171207  \n",
      "3  38.133602  0.006967 -80.000000  0.019249  20171207  \n",
      "4  49.792643  0.033398 -81.718963  0.068517  20171207  \n",
      "8100\n"
     ]
    }
   ],
   "source": [
    "#载入数据\n",
    "data=pd.read_csv(\"data/data.csv\")\n",
    "print(data.head())\n",
    "print(len(data))\n",
    "\n"
   ]
  },
  {
   "cell_type": "code",
   "execution_count": 6,
   "metadata": {},
   "outputs": [
    {
     "name": "stdout",
     "output_type": "stream",
     "text": [
      "<class 'pandas.core.series.Series'>\n",
      "<class 'list'>\n",
      "[20171207, 20180105, 20180209, 20180309, 20180412, 20180510, 20180608, 20180706, 20180803, 20180831, 20181006, 20181103, 20181201, 20190102, 20190206, 20190306, 20190404, 20190507, 20190605, 20190703, 20190731, 20190829, 20191003, 20191031, 20191128, 20191227, 20200201]\n"
     ]
    }
   ],
   "source": [
    "#分析数据的日期\n",
    "date=data.loc[:,\"date\"]\n",
    "#print(type(date))\n",
    "date=date.tolist()\n",
    "#print(type(date))\n",
    "date=set(date)\n",
    "date=list(date)\n",
    "date=sorted(date)\n",
    "print(date)"
   ]
  },
  {
   "cell_type": "code",
   "execution_count": 7,
   "metadata": {},
   "outputs": [],
   "source": [
    "#准备数据输入和标签\n",
    "data=data.set_index([\"stock_code\"])\n",
    "#数据清洗，去除NAN\n",
    "data=data.dropna()\n",
    "x_data=data.drop([\"date\",\"y\"],axis=1)  # axis=1代表将列删掉；0代表将行删掉\n",
    "y_data=data.loc[:,\"y\"]"
   ]
  },
  {
   "cell_type": "code",
   "execution_count": 12,
   "metadata": {},
   "outputs": [
    {
     "name": "stdout",
     "output_type": "stream",
     "text": [
      "<class 'pandas.core.frame.DataFrame'>\n",
      "                 revenue  s_fa_eps_basic     du_profit  plus_net_invest_inc  \\\n",
      "stock_code                                                                    \n",
      "000001.SZ   8.196800e+10          1.0600  0.000000e+00         0.000000e+00   \n",
      "000002.SZ   1.170000e+11          1.0050  2.222772e+10         2.046834e+09   \n",
      "000008.SZ   1.007329e+09          0.0434  1.776341e+08         0.000000e+00   \n",
      "000060.SZ   1.482919e+10          0.3800  1.279332e+09         2.853988e+07   \n",
      "000063.SZ   4.775730e+10          0.9300  5.884933e+09        -1.951700e+07   \n",
      "\n",
      "            net_cash_flows_oper_act  net_cash_flows_inv_act  net_roe  \\\n",
      "stock_code                                                             \n",
      "000001.SZ             -1.530000e+11           -9.716200e+10   8.7813   \n",
      "000002.SZ              6.474047e+09            1.392036e+10   9.5305   \n",
      "000008.SZ             -9.947078e+07           -1.193312e+09   1.9528   \n",
      "000060.SZ              7.571307e+08           -4.932751e+08   8.6684   \n",
      "000063.SZ             -3.170483e+09           -4.387188e+09  12.6504   \n",
      "\n",
      "            total_roe        RSI       VOL      WILLR  \n",
      "stock_code                                             \n",
      "000001.SZ      0.6289  52.970207  0.009827 -95.652174  \n",
      "000002.SZ      1.6026  52.688324  0.006181 -98.727735  \n",
      "000008.SZ      1.5235  30.723514  0.002209 -84.210526  \n",
      "000060.SZ      4.9238  38.133602  0.006967 -80.000000  \n",
      "000063.SZ      2.9854  49.792643  0.033398 -81.718963  \n",
      "<class 'numpy.ndarray'>\n",
      "[[ 8.19679969e+10  1.05999994e+00  0.00000000e+00 ...  5.29702065e+01\n",
      "   9.82705300e-03 -9.56521739e+01]\n",
      " [ 1.17000000e+11  1.00499999e+00  2.22277243e+10 ...  5.26883237e+01\n",
      "   6.18106700e-03 -9.87277354e+01]\n",
      " [ 1.00732928e+09  4.34000010e-02  1.77634112e+08 ...  3.07235141e+01\n",
      "   2.20928400e-03 -8.42105263e+01]\n",
      " ...\n",
      " [ 8.19692288e+09  3.27999997e+00  1.61806080e+09 ...  4.42591580e+01\n",
      "   1.47320320e-02 -8.09460360e+01]\n",
      " [ 9.28634880e+09  1.20560002e+00  1.85078656e+09 ...  4.98525074e+01\n",
      "   1.17715020e-02 -9.20863309e+01]\n",
      " [ 2.00838144e+10  5.79999980e-02  2.26364698e+09 ...  4.11644535e+01\n",
      "   1.25682550e-02 -9.22077922e+01]]\n"
     ]
    }
   ],
   "source": [
    "#对于数据进行预处理\n",
    "from sklearn.decomposition import PCA\n",
    "from sklearn.preprocessing import MinMaxScaler\n",
    "\n",
    "#对输入数据进行处理，提取可以被机器学习接受的数组形式\n",
    "#print(type(x_data))\n",
    "#print(x_data.head())\n",
    "x=x_data.values\n",
    "#print(type(x))\n",
    "#print(x)\n",
    "#对数据进行归一化处理\n",
    "nm_scaler=MinMaxScaler()\n",
    "x=nm_scaler.fit_transform(x)\n",
    "\n",
    "# 使用主成分分析，对数据作降维处理，提取10个关键的特征\n",
    "\n",
    "pca=PCA(n_components=10)\n",
    "x=pca.fit_transform(x)\n",
    "\n",
    "\n",
    "\n",
    "#划分训练和测试数据集\n",
    "\n",
    "train_x=x[0:5702]\n",
    "test_x=x[5702:]\n",
    "\n"
   ]
  },
  {
   "cell_type": "code",
   "execution_count": 14,
   "metadata": {},
   "outputs": [
    {
     "name": "stdout",
     "output_type": "stream",
     "text": [
      "[0. 0. 1. ... 1. 1. 1.]\n"
     ]
    }
   ],
   "source": [
    "#对标签数据进行处理\n",
    "y=y_data.copy()\n",
    "y=y.values\n",
    "\n",
    "#把结果二值化用于分类的标签\n",
    "\n",
    "y[y>=0.04]=1\n",
    "y[y<0.04]=0\n",
    "#print(y)\n",
    "\n",
    "#划分训练和测试标签集\n",
    "\n",
    "train_y=y[0:5702]\n",
    "test_y=y[5702:]\n",
    "\n",
    "\n",
    "\n"
   ]
  },
  {
   "cell_type": "code",
   "execution_count": 15,
   "metadata": {},
   "outputs": [],
   "source": [
    "# 构建最基础的机器学习KNN模型，对模型进行训练\n",
    "from sklearn.neighbors import KNeighborsClassifier          #knn是最基础的机器学习模型，他的预测取决于当前的情况和历史上的情况进行对比，找到最相似的进行推断\n",
    "knn=KNeighborsClassifier(n_neighbors=3,weights=\"distance\")  #跟历史上最相似的3次情况进行对比，求欧式距离找到距离最近的情况\n",
    "\n",
    "knn.fit(train_x,train_y)\n",
    "predict_train_y=knn.predict(train_x)\n",
    "\n",
    "\n"
   ]
  },
  {
   "cell_type": "code",
   "execution_count": 16,
   "metadata": {},
   "outputs": [
    {
     "name": "stdout",
     "output_type": "stream",
     "text": [
      "[0. 0. 1. ... 0. 0. 0.]\n"
     ]
    }
   ],
   "source": [
    "print(predict_train_y)"
   ]
  },
  {
   "cell_type": "code",
   "execution_count": 17,
   "metadata": {},
   "outputs": [
    {
     "name": "stdout",
     "output_type": "stream",
     "text": [
      "1.0\n",
      "[[4263    0]\n",
      " [   0 1439]]\n"
     ]
    }
   ],
   "source": [
    "# 查看训练的拟合度\n",
    "\n",
    "from sklearn.metrics import accuracy_score, confusion_matrix\n",
    "\n",
    "print(accuracy_score(train_y,predict_train_y))\n",
    "cm=confusion_matrix(train_y,predict_train_y)\n",
    "print(cm)\n"
   ]
  },
  {
   "cell_type": "code",
   "execution_count": 18,
   "metadata": {},
   "outputs": [
    {
     "name": "stdout",
     "output_type": "stream",
     "text": [
      "0.5925414364640884\n",
      "[[1130  228]\n",
      " [ 657  157]]\n"
     ]
    }
   ],
   "source": [
    "# 查看测试结果\n",
    "predict_test_y=knn.predict(test_x)\n",
    "\n",
    "print(accuracy_score(test_y,predict_test_y))\n",
    "cm=confusion_matrix(test_y,predict_test_y)\n",
    "print(cm)\n",
    "\n",
    "\n",
    "\n"
   ]
  },
  {
   "cell_type": "code",
   "execution_count": 20,
   "metadata": {},
   "outputs": [],
   "source": [
    "#搭建ANN模型，载入必须的库  人工神经网络（Artificial Neural Network，简称ANN ）\n",
    "\n",
    "from keras.models import Sequential\n",
    "from keras.layers import Dense, Activation\n",
    "from keras.optimizers import adam_v2\n"
   ]
  },
  {
   "cell_type": "code",
   "execution_count": 27,
   "metadata": {},
   "outputs": [],
   "source": [
    "#搭建模型\n",
    "\n",
    "model=Sequential([Dense(10,input_dim=10),Activation(\"tanh\"),Dense(1),Activation(\"sigmoid\")])\n",
    "\n",
    "adam=adam_v2.Adam(lr=0.01)\n",
    "model.compile(optimizer=adam,loss=\"mean_squared_error\",metrics=[\"accuracy\"])\n",
    "\n"
   ]
  },
  {
   "cell_type": "code",
   "execution_count": 28,
   "metadata": {},
   "outputs": [
    {
     "name": "stdout",
     "output_type": "stream",
     "text": [
      "Epoch 1/100\n",
      "12/12 [==============================] - 0s 1ms/step - loss: 0.2256 - accuracy: 0.6991\n",
      "Epoch 2/100\n",
      "12/12 [==============================] - 0s 909us/step - loss: 0.1894 - accuracy: 0.7476\n",
      "Epoch 3/100\n",
      "12/12 [==============================] - 0s 653us/step - loss: 0.1858 - accuracy: 0.7476\n",
      "Epoch 4/100\n",
      "12/12 [==============================] - 0s 545us/step - loss: 0.1847 - accuracy: 0.7476\n",
      "Epoch 5/100\n",
      "12/12 [==============================] - 0s 455us/step - loss: 0.1836 - accuracy: 0.7480\n",
      "Epoch 6/100\n",
      "12/12 [==============================] - 0s 727us/step - loss: 0.1828 - accuracy: 0.7478\n",
      "Epoch 7/100\n",
      "12/12 [==============================] - 0s 636us/step - loss: 0.1824 - accuracy: 0.7482\n",
      "Epoch 8/100\n",
      "12/12 [==============================] - 0s 455us/step - loss: 0.1820 - accuracy: 0.7494\n",
      "Epoch 9/100\n",
      "12/12 [==============================] - 0s 545us/step - loss: 0.1816 - accuracy: 0.7515\n",
      "Epoch 10/100\n",
      "12/12 [==============================] - 0s 364us/step - loss: 0.1814 - accuracy: 0.7513\n",
      "Epoch 11/100\n",
      "12/12 [==============================] - 0s 636us/step - loss: 0.1812 - accuracy: 0.7511\n",
      "Epoch 12/100\n",
      "12/12 [==============================] - 0s 545us/step - loss: 0.1811 - accuracy: 0.7513\n",
      "Epoch 13/100\n",
      "12/12 [==============================] - 0s 455us/step - loss: 0.1812 - accuracy: 0.7492\n",
      "Epoch 14/100\n",
      "12/12 [==============================] - 0s 545us/step - loss: 0.1811 - accuracy: 0.7499\n",
      "Epoch 15/100\n",
      "12/12 [==============================] - 0s 455us/step - loss: 0.1811 - accuracy: 0.7506\n",
      "Epoch 16/100\n",
      "12/12 [==============================] - 0s 546us/step - loss: 0.1811 - accuracy: 0.7510\n",
      "Epoch 17/100\n",
      "12/12 [==============================] - 0s 455us/step - loss: 0.1811 - accuracy: 0.7511\n",
      "Epoch 18/100\n",
      "12/12 [==============================] - 0s 727us/step - loss: 0.1811 - accuracy: 0.7506\n",
      "Epoch 19/100\n",
      "12/12 [==============================] - 0s 546us/step - loss: 0.1813 - accuracy: 0.7499\n",
      "Epoch 20/100\n",
      "12/12 [==============================] - 0s 454us/step - loss: 0.1812 - accuracy: 0.7513\n",
      "Epoch 21/100\n",
      "12/12 [==============================] - 0s 546us/step - loss: 0.1811 - accuracy: 0.7508\n",
      "Epoch 22/100\n",
      "12/12 [==============================] - 0s 455us/step - loss: 0.1810 - accuracy: 0.7506\n",
      "Epoch 23/100\n",
      "12/12 [==============================] - 0s 545us/step - loss: 0.1810 - accuracy: 0.7504\n",
      "Epoch 24/100\n",
      "12/12 [==============================] - 0s 455us/step - loss: 0.1810 - accuracy: 0.7504\n",
      "Epoch 25/100\n",
      "12/12 [==============================] - 0s 545us/step - loss: 0.1811 - accuracy: 0.7492\n",
      "Epoch 26/100\n",
      "12/12 [==============================] - 0s 545us/step - loss: 0.1810 - accuracy: 0.7501\n",
      "Epoch 27/100\n",
      "12/12 [==============================] - 0s 455us/step - loss: 0.1810 - accuracy: 0.7496\n",
      "Epoch 28/100\n",
      "12/12 [==============================] - 0s 546us/step - loss: 0.1810 - accuracy: 0.7497\n",
      "Epoch 29/100\n",
      "12/12 [==============================] - 0s 455us/step - loss: 0.1810 - accuracy: 0.7503\n",
      "Epoch 30/100\n",
      "12/12 [==============================] - 0s 636us/step - loss: 0.1812 - accuracy: 0.7501\n",
      "Epoch 31/100\n",
      "12/12 [==============================] - 0s 455us/step - loss: 0.1812 - accuracy: 0.7510\n",
      "Epoch 32/100\n",
      "12/12 [==============================] - 0s 545us/step - loss: 0.1811 - accuracy: 0.7490\n",
      "Epoch 33/100\n",
      "12/12 [==============================] - 0s 546us/step - loss: 0.1809 - accuracy: 0.7499\n",
      "Epoch 34/100\n",
      "12/12 [==============================] - 0s 455us/step - loss: 0.1810 - accuracy: 0.7497\n",
      "Epoch 35/100\n",
      "12/12 [==============================] - 0s 545us/step - loss: 0.1809 - accuracy: 0.7490\n",
      "Epoch 36/100\n",
      "12/12 [==============================] - 0s 455us/step - loss: 0.1810 - accuracy: 0.7490\n",
      "Epoch 37/100\n",
      "12/12 [==============================] - 0s 545us/step - loss: 0.1810 - accuracy: 0.7506\n",
      "Epoch 38/100\n",
      "12/12 [==============================] - 0s 546us/step - loss: 0.1810 - accuracy: 0.7490\n",
      "Epoch 39/100\n",
      "12/12 [==============================] - 0s 454us/step - loss: 0.1809 - accuracy: 0.7489\n",
      "Epoch 40/100\n",
      "12/12 [==============================] - 0s 636us/step - loss: 0.1809 - accuracy: 0.7485\n",
      "Epoch 41/100\n",
      "12/12 [==============================] - 0s 455us/step - loss: 0.1809 - accuracy: 0.7496\n",
      "Epoch 42/100\n",
      "12/12 [==============================] - 0s 545us/step - loss: 0.1808 - accuracy: 0.7503\n",
      "Epoch 43/100\n",
      "12/12 [==============================] - 0s 455us/step - loss: 0.1810 - accuracy: 0.7492\n",
      "Epoch 44/100\n",
      "12/12 [==============================] - 0s 545us/step - loss: 0.1810 - accuracy: 0.7513\n",
      "Epoch 45/100\n",
      "12/12 [==============================] - 0s 455us/step - loss: 0.1809 - accuracy: 0.7496\n",
      "Epoch 46/100\n",
      "12/12 [==============================] - 0s 455us/step - loss: 0.1809 - accuracy: 0.7508\n",
      "Epoch 47/100\n",
      "12/12 [==============================] - 0s 546us/step - loss: 0.1809 - accuracy: 0.7496\n",
      "Epoch 48/100\n",
      "12/12 [==============================] - 0s 455us/step - loss: 0.1807 - accuracy: 0.7508\n",
      "Epoch 49/100\n",
      "12/12 [==============================] - 0s 636us/step - loss: 0.1808 - accuracy: 0.7511\n",
      "Epoch 50/100\n",
      "12/12 [==============================] - 0s 636us/step - loss: 0.1808 - accuracy: 0.7508\n",
      "Epoch 51/100\n",
      "12/12 [==============================] - 0s 454us/step - loss: 0.1809 - accuracy: 0.7497\n",
      "Epoch 52/100\n",
      "12/12 [==============================] - 0s 546us/step - loss: 0.1808 - accuracy: 0.7504\n",
      "Epoch 53/100\n",
      "12/12 [==============================] - 0s 455us/step - loss: 0.1807 - accuracy: 0.7499\n",
      "Epoch 54/100\n",
      "12/12 [==============================] - 0s 545us/step - loss: 0.1808 - accuracy: 0.7513\n",
      "Epoch 55/100\n",
      "12/12 [==============================] - 0s 545us/step - loss: 0.1808 - accuracy: 0.7496\n",
      "Epoch 56/100\n",
      "12/12 [==============================] - 0s 454us/step - loss: 0.1807 - accuracy: 0.7499\n",
      "Epoch 57/100\n",
      "12/12 [==============================] - 0s 545us/step - loss: 0.1807 - accuracy: 0.7497\n",
      "Epoch 58/100\n",
      "12/12 [==============================] - 0s 455us/step - loss: 0.1806 - accuracy: 0.7504\n",
      "Epoch 59/100\n",
      "12/12 [==============================] - 0s 545us/step - loss: 0.1806 - accuracy: 0.7501\n",
      "Epoch 60/100\n",
      "12/12 [==============================] - 0s 455us/step - loss: 0.1807 - accuracy: 0.7499\n",
      "Epoch 61/100\n",
      "12/12 [==============================] - 0s 545us/step - loss: 0.1806 - accuracy: 0.7501\n",
      "Epoch 62/100\n",
      "12/12 [==============================] - 0s 455us/step - loss: 0.1806 - accuracy: 0.7497\n",
      "Epoch 63/100\n",
      "12/12 [==============================] - 0s 455us/step - loss: 0.1805 - accuracy: 0.7499\n",
      "Epoch 64/100\n",
      "12/12 [==============================] - 0s 636us/step - loss: 0.1806 - accuracy: 0.7492\n",
      "Epoch 65/100\n",
      "12/12 [==============================] - 0s 454us/step - loss: 0.1806 - accuracy: 0.7510\n",
      "Epoch 66/100\n",
      "12/12 [==============================] - 0s 545us/step - loss: 0.1804 - accuracy: 0.7504\n",
      "Epoch 67/100\n",
      "12/12 [==============================] - 0s 455us/step - loss: 0.1805 - accuracy: 0.7499\n",
      "Epoch 68/100\n",
      "12/12 [==============================] - 0s 545us/step - loss: 0.1804 - accuracy: 0.7508\n",
      "Epoch 69/100\n",
      "12/12 [==============================] - 0s 455us/step - loss: 0.1804 - accuracy: 0.7511\n",
      "Epoch 70/100\n",
      "12/12 [==============================] - 0s 455us/step - loss: 0.1806 - accuracy: 0.7504\n",
      "Epoch 71/100\n",
      "12/12 [==============================] - 0s 545us/step - loss: 0.1805 - accuracy: 0.7510\n",
      "Epoch 72/100\n",
      "12/12 [==============================] - 0s 455us/step - loss: 0.1804 - accuracy: 0.7506\n",
      "Epoch 73/100\n",
      "12/12 [==============================] - 0s 545us/step - loss: 0.1806 - accuracy: 0.7506\n",
      "Epoch 74/100\n",
      "12/12 [==============================] - 0s 455us/step - loss: 0.1803 - accuracy: 0.7494\n",
      "Epoch 75/100\n",
      "12/12 [==============================] - 0s 545us/step - loss: 0.1803 - accuracy: 0.7504\n",
      "Epoch 76/100\n",
      "12/12 [==============================] - 0s 455us/step - loss: 0.1805 - accuracy: 0.7508\n",
      "Epoch 77/100\n",
      "12/12 [==============================] - 0s 545us/step - loss: 0.1803 - accuracy: 0.7510\n",
      "Epoch 78/100\n",
      "12/12 [==============================] - 0s 455us/step - loss: 0.1803 - accuracy: 0.7499\n",
      "Epoch 79/100\n",
      "12/12 [==============================] - 0s 545us/step - loss: 0.1802 - accuracy: 0.7508\n",
      "Epoch 80/100\n",
      "12/12 [==============================] - 0s 545us/step - loss: 0.1802 - accuracy: 0.7508\n",
      "Epoch 81/100\n"
     ]
    },
    {
     "name": "stdout",
     "output_type": "stream",
     "text": [
      "12/12 [==============================] - 0s 455us/step - loss: 0.1801 - accuracy: 0.7508\n",
      "Epoch 82/100\n",
      "12/12 [==============================] - 0s 636us/step - loss: 0.1801 - accuracy: 0.7506\n",
      "Epoch 83/100\n",
      "12/12 [==============================] - 0s 545us/step - loss: 0.1801 - accuracy: 0.7499\n",
      "Epoch 84/100\n",
      "12/12 [==============================] - 0s 545us/step - loss: 0.1800 - accuracy: 0.7510\n",
      "Epoch 85/100\n",
      "12/12 [==============================] - 0s 545us/step - loss: 0.1801 - accuracy: 0.7511\n",
      "Epoch 86/100\n",
      "12/12 [==============================] - 0s 455us/step - loss: 0.1800 - accuracy: 0.7494\n",
      "Epoch 87/100\n",
      "12/12 [==============================] - 0s 546us/step - loss: 0.1803 - accuracy: 0.7506\n",
      "Epoch 88/100\n",
      "12/12 [==============================] - 0s 455us/step - loss: 0.1800 - accuracy: 0.7499\n",
      "Epoch 89/100\n",
      "12/12 [==============================] - 0s 545us/step - loss: 0.1799 - accuracy: 0.7499\n",
      "Epoch 90/100\n",
      "12/12 [==============================] - 0s 455us/step - loss: 0.1800 - accuracy: 0.7511\n",
      "Epoch 91/100\n",
      "12/12 [==============================] - 0s 455us/step - loss: 0.1800 - accuracy: 0.7506\n",
      "Epoch 92/100\n",
      "12/12 [==============================] - 0s 455us/step - loss: 0.1798 - accuracy: 0.7515\n",
      "Epoch 93/100\n",
      "12/12 [==============================] - 0s 364us/step - loss: 0.1798 - accuracy: 0.7515\n",
      "Epoch 94/100\n",
      "12/12 [==============================] - 0s 545us/step - loss: 0.1800 - accuracy: 0.7513\n",
      "Epoch 95/100\n",
      "12/12 [==============================] - 0s 455us/step - loss: 0.1799 - accuracy: 0.7497\n",
      "Epoch 96/100\n",
      "12/12 [==============================] - 0s 545us/step - loss: 0.1800 - accuracy: 0.7503\n",
      "Epoch 97/100\n",
      "12/12 [==============================] - 0s 545us/step - loss: 0.1798 - accuracy: 0.7511\n",
      "Epoch 98/100\n",
      "12/12 [==============================] - 0s 545us/step - loss: 0.1798 - accuracy: 0.7504\n",
      "Epoch 99/100\n",
      "12/12 [==============================] - 0s 545us/step - loss: 0.1798 - accuracy: 0.7497\n",
      "Epoch 100/100\n",
      "12/12 [==============================] - 0s 545us/step - loss: 0.1797 - accuracy: 0.7510\n"
     ]
    },
    {
     "data": {
      "text/plain": [
       "<keras.callbacks.History at 0x1ee8add6220>"
      ]
     },
     "execution_count": 28,
     "metadata": {},
     "output_type": "execute_result"
    }
   ],
   "source": [
    "#训练模型\n",
    "model.fit(train_x,train_y,epochs =100,batch_size=500)\n"
   ]
  },
  {
   "cell_type": "code",
   "execution_count": 29,
   "metadata": {},
   "outputs": [
    {
     "name": "stdout",
     "output_type": "stream",
     "text": [
      "[[0.19518653]\n",
      " [0.12833136]\n",
      " [0.19710451]\n",
      " ...\n",
      " [0.3385986 ]\n",
      " [0.25403118]\n",
      " [0.23298374]]\n"
     ]
    }
   ],
   "source": [
    "predict_test_y=model.predict(test_x)\n",
    "print(predict_test_y)"
   ]
  },
  {
   "cell_type": "code",
   "execution_count": 30,
   "metadata": {},
   "outputs": [
    {
     "name": "stdout",
     "output_type": "stream",
     "text": [
      "0.6284530386740331\n",
      "[[1357    1]\n",
      " [ 806    8]]\n"
     ]
    }
   ],
   "source": [
    "#测试模型表现\n",
    "from sklearn.metrics import accuracy_score, confusion_matrix\n",
    "#设定阈值\n",
    "predict_test_y=model.predict(test_x)\n",
    "theta=0.55\n",
    "predict_test_y[predict_test_y>=theta]=1\n",
    "predict_test_y[predict_test_y<theta]=0\n",
    "\n",
    "\n",
    "#将量化预测结果进行阈值分类\n",
    "\n",
    "acc=accuracy_score(test_y,predict_test_y)\n",
    "cm=confusion_matrix(test_y,predict_test_y)\n",
    "\n",
    "print(acc)\n",
    "print(cm)\n",
    "\n",
    "\n",
    "#查看统计结果\n"
   ]
  },
  {
   "cell_type": "code",
   "execution_count": null,
   "metadata": {},
   "outputs": [],
   "source": []
  },
  {
   "cell_type": "code",
   "execution_count": null,
   "metadata": {},
   "outputs": [],
   "source": []
  },
  {
   "cell_type": "code",
   "execution_count": null,
   "metadata": {},
   "outputs": [],
   "source": []
  },
  {
   "cell_type": "code",
   "execution_count": null,
   "metadata": {},
   "outputs": [],
   "source": []
  }
 ],
 "metadata": {
  "kernelspec": {
   "display_name": "Python 3 (ipykernel)",
   "language": "python",
   "name": "python3"
  },
  "language_info": {
   "codemirror_mode": {
    "name": "ipython",
    "version": 3
   },
   "file_extension": ".py",
   "mimetype": "text/x-python",
   "name": "python",
   "nbconvert_exporter": "python",
   "pygments_lexer": "ipython3",
   "version": "3.9.7"
  }
 },
 "nbformat": 4,
 "nbformat_minor": 4
}
